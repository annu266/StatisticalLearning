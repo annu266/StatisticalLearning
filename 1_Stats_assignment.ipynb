{
 "cells": [
  {
   "cell_type": "code",
   "execution_count": 11,
   "metadata": {},
   "outputs": [],
   "source": [
    "# Importing required packages:\n",
    "import pandas as pd\n",
    "import numpy as np\n",
    "import csv\n",
    "import xlrd\n",
    "import json\n",
    "import os\n",
    "\n",
    "import scipy.stats\n",
    "from scipy import stats\n",
    "from scipy.stats import ttest_ind\n",
    "\n",
    "#import ttest_ind\n",
    "import math\n",
    "import matplotlib.pyplot as plt"
   ]
  },
  {
   "cell_type": "code",
   "execution_count": 2,
   "metadata": {},
   "outputs": [],
   "source": [
    "# Importing data into python saved as CSV file \n",
    "Titan_1 = pd.read_csv(\"C:/Greatleaning/Oct'18/Statistical_Assignment/Titan.csv\")"
   ]
  },
  {
   "cell_type": "code",
   "execution_count": 4,
   "metadata": {},
   "outputs": [
    {
     "data": {
      "text/html": [
       "<div>\n",
       "<style scoped>\n",
       "    .dataframe tbody tr th:only-of-type {\n",
       "        vertical-align: middle;\n",
       "    }\n",
       "\n",
       "    .dataframe tbody tr th {\n",
       "        vertical-align: top;\n",
       "    }\n",
       "\n",
       "    .dataframe thead th {\n",
       "        text-align: right;\n",
       "    }\n",
       "</style>\n",
       "<table border=\"1\" class=\"dataframe\">\n",
       "  <thead>\n",
       "    <tr style=\"text-align: right;\">\n",
       "      <th></th>\n",
       "      <th>SALESPERSON</th>\n",
       "      <th>Old Scheme (in thousands)</th>\n",
       "      <th>New Scheme (in thousands)</th>\n",
       "    </tr>\n",
       "  </thead>\n",
       "  <tbody>\n",
       "    <tr>\n",
       "      <th>0</th>\n",
       "      <td>1</td>\n",
       "      <td>57</td>\n",
       "      <td>62</td>\n",
       "    </tr>\n",
       "    <tr>\n",
       "      <th>1</th>\n",
       "      <td>2</td>\n",
       "      <td>103</td>\n",
       "      <td>122</td>\n",
       "    </tr>\n",
       "    <tr>\n",
       "      <th>2</th>\n",
       "      <td>3</td>\n",
       "      <td>59</td>\n",
       "      <td>54</td>\n",
       "    </tr>\n",
       "    <tr>\n",
       "      <th>3</th>\n",
       "      <td>4</td>\n",
       "      <td>75</td>\n",
       "      <td>82</td>\n",
       "    </tr>\n",
       "    <tr>\n",
       "      <th>4</th>\n",
       "      <td>5</td>\n",
       "      <td>84</td>\n",
       "      <td>84</td>\n",
       "    </tr>\n",
       "  </tbody>\n",
       "</table>\n",
       "</div>"
      ],
      "text/plain": [
       "   SALESPERSON  Old Scheme (in thousands)  New Scheme (in thousands)\n",
       "0            1                         57                         62\n",
       "1            2                        103                        122\n",
       "2            3                         59                         54\n",
       "3            4                         75                         82\n",
       "4            5                         84                         84"
      ]
     },
     "execution_count": 4,
     "metadata": {},
     "output_type": "execute_result"
    }
   ],
   "source": [
    "# To check the output\n",
    "Titan_1.head()"
   ]
  },
  {
   "cell_type": "code",
   "execution_count": 5,
   "metadata": {},
   "outputs": [
    {
     "data": {
      "text/plain": [
       "Index(['SALESPERSON', 'Old Scheme (in thousands)',\n",
       "       'New Scheme (in thousands)'],\n",
       "      dtype='object')"
      ]
     },
     "execution_count": 5,
     "metadata": {},
     "output_type": "execute_result"
    }
   ],
   "source": [
    "Titan_1.columns"
   ]
  },
  {
   "cell_type": "code",
   "execution_count": 6,
   "metadata": {},
   "outputs": [],
   "source": [
    "# updating column names  \n",
    "Titan_1.columns = ['SALESPERSON','Old_Scheme','New_Scheme']"
   ]
  },
  {
   "cell_type": "markdown",
   "metadata": {},
   "source": [
    "# Calculating mean\n"
   ]
  },
  {
   "cell_type": "code",
   "execution_count": 7,
   "metadata": {},
   "outputs": [
    {
     "data": {
      "text/plain": [
       "68.03333333333333"
      ]
     },
     "execution_count": 7,
     "metadata": {},
     "output_type": "execute_result"
    }
   ],
   "source": [
    "# Calculating mean of old scheme column\n",
    "Titan_1.Old_Scheme.mean()"
   ]
  },
  {
   "cell_type": "code",
   "execution_count": 8,
   "metadata": {},
   "outputs": [
    {
     "data": {
      "text/plain": [
       "72.03333333333333"
      ]
     },
     "execution_count": 8,
     "metadata": {},
     "output_type": "execute_result"
    }
   ],
   "source": [
    "# Calculating mean of new scheme column\n",
    "Titan_1.New_Scheme.mean()"
   ]
  },
  {
   "cell_type": "markdown",
   "metadata": {},
   "source": [
    "# Performing hypothesis Test - to determine the p value to check new scheme has significantly raised outputs"
   ]
  },
  {
   "cell_type": "code",
   "execution_count": 18,
   "metadata": {},
   "outputs": [],
   "source": [
    "# Here the question statement is whether new scheme is better than old scheme\n",
    "\n",
    "# In this case average output using old method should be less than \n",
    "#the avarage output achieved from the new scheme\n",
    "\n",
    "# Here null hypothesis is:\n",
    "\n",
    "#average output from the old method is equal to average output from new schemes\n",
    "# H0: mu1= mu2\n",
    "\n",
    "# Here alternative hypothesis is:\n",
    "\n",
    "#average output from the old method is less than average output from new schemes\n",
    "# H0: mu1< mu2\n",
    "\n",
    "# as sample size is 30 & variance is not given so t-test will be used for testing of mean (average)\n",
    "\n",
    "# Before applying t-test, need to check if variance is same for both the samples- using Bartlett-test\n"
   ]
  },
  {
   "cell_type": "code",
   "execution_count": 9,
   "metadata": {},
   "outputs": [
    {
     "data": {
      "text/plain": [
       "BartlettResult(statistic=0.7483640789346552, pvalue=0.386994667818241)"
      ]
     },
     "execution_count": 9,
     "metadata": {},
     "output_type": "execute_result"
    }
   ],
   "source": [
    "# Performing the hypothesis test if variance for new scheme is equal to variance for old scheme\n",
    "Vartest = scipy.stats.bartlett(Titan_1['Old_Scheme'], Titan_1['New_Scheme'])\n",
    "Vartest\n",
    "\n",
    "# by seeing the pvalue=0.386994667818241, the conclusion is null hypotheis is accepted. \n",
    "# It means Variance is equal for both "
   ]
  },
  {
   "cell_type": "code",
   "execution_count": 12,
   "metadata": {},
   "outputs": [
    {
     "data": {
      "text/plain": [
       "Ttest_indResult(statistic=-0.6937067608923764, pvalue=0.49063515686248105)"
      ]
     },
     "execution_count": 12,
     "metadata": {},
     "output_type": "execute_result"
    }
   ],
   "source": [
    "#Performing two sample t-test to test whether new scheme is better than old scheme  \n",
    "alpha = 0.05\n",
    "## At 0.05 alpha threshold\n",
    "ttest = ttest_ind(Titan_1['Old_Scheme'], Titan_1['New_Scheme'], equal_var=True)\n",
    "ttest"
   ]
  },
  {
   "cell_type": "markdown",
   "metadata": {},
   "source": [
    "# What conclusion does the test (p-value) lead to?"
   ]
  },
  {
   "cell_type": "code",
   "execution_count": null,
   "metadata": {},
   "outputs": [],
   "source": [
    "# Conclusion \n",
    "\n",
    "# by seeing the pvalue=0.49063515686248105, the conclusion is null hypotheis is accepted. \n",
    "# It means there is no diffrence in the avargae output using old scheame & new scheme "
   ]
  },
  {
   "cell_type": "markdown",
   "metadata": {},
   "source": [
    "# Probability of a type 1 error"
   ]
  },
  {
   "cell_type": "code",
   "execution_count": null,
   "metadata": {},
   "outputs": [],
   "source": [
    "# We take standard value for Type-1 error as  5% or 0.05. So here the type1 error will  be 0.05"
   ]
  },
  {
   "cell_type": "markdown",
   "metadata": {},
   "source": [
    "# p- value of the hypothesis test if we test for a difference of 5000"
   ]
  },
  {
   "cell_type": "code",
   "execution_count": 134,
   "metadata": {},
   "outputs": [
    {
     "name": "stdout",
     "output_type": "stream",
     "text": [
      "4.0\n"
     ]
    },
    {
     "data": {
      "text/plain": [
       "Ttest_1sampResult(statistic=-0.3889785955886094, pvalue=0.7001334912613286)"
      ]
     },
     "execution_count": 134,
     "metadata": {},
     "output_type": "execute_result"
    }
   ],
   "source": [
    "# What is the p- value of the hypothesis test if we test for a average difference of $5000\n",
    "\n",
    "# creating the copy of Titan_1 data set\n",
    "df = Titan_1.copy()\n",
    "\n",
    "# Creating a new column - sgl with the difference of output of old & new scheme\n",
    "df1=df.diff(periods=1, axis=1)\n",
    "sgl = df1.iloc[:,2]\n",
    "print(sgl.mean())\n",
    "\n",
    "# performing the ttest for calculate the p value if we test for a difference of L5000 \n",
    "\n",
    "#from scipy.stats import ttest_1samp\n",
    "diff_sample = ttest_1samp(sgl, 5)\n",
    "diff_sample\n",
    "# P -value is 0.7001334912613286"
   ]
  },
  {
   "cell_type": "markdown",
   "metadata": {},
   "source": [
    "# Power of the test "
   ]
  },
  {
   "cell_type": "code",
   "execution_count": 44,
   "metadata": {},
   "outputs": [
    {
     "data": {
      "text/plain": [
       "0.3165111350571818"
      ]
     },
     "execution_count": 44,
     "metadata": {},
     "output_type": "execute_result"
    }
   ],
   "source": [
    "# Estimate power of the test via power analysis\n",
    "from statsmodels.stats.power import TTestIndPower\n",
    "\n",
    "# parameters for power analysis\n",
    "alpha = 0.05\n",
    "# effect will be calculated as : (X-mu / sigma/ root (n)) which is calculated above as t- statistics\n",
    "# t- statistic value above =-0.3889\n",
    "\n",
    "# perform power analysis \n",
    "#result = analysis.solve_power(effect, power=power, nobs1=None, ratio=1.0, alpha=alpha)\n",
    "analysis = TTestIndPower()\n",
    "result = analysis.solve_power(-0.389, power=None, nobs1=30, alpha=0.05)\n",
    "result\n",
    "\n",
    "# Power of the test is around 0.32"
   ]
  }
 ],
 "metadata": {
  "kernelspec": {
   "display_name": "Python 3",
   "language": "python",
   "name": "python3"
  },
  "language_info": {
   "codemirror_mode": {
    "name": "ipython",
    "version": 3
   },
   "file_extension": ".py",
   "mimetype": "text/x-python",
   "name": "python",
   "nbconvert_exporter": "python",
   "pygments_lexer": "ipython3",
   "version": "3.6.5"
  }
 },
 "nbformat": 4,
 "nbformat_minor": 2
}
